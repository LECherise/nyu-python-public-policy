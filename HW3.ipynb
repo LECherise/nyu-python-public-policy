{
  "nbformat": 4,
  "nbformat_minor": 0,
  "metadata": {
    "colab": {
      "name": "HW3.ipynb",
      "provenance": [],
      "include_colab_link": true
    },
    "kernelspec": {
      "name": "python3",
      "display_name": "Python 3"
    }
  },
  "cells": [
    {
      "cell_type": "markdown",
      "metadata": {
        "id": "view-in-github",
        "colab_type": "text"
      },
      "source": [
        "<a href=\"https://colab.research.google.com/github/LECherise/nyu-python-public-policy/blob/master/HW3.ipynb\" target=\"_parent\"><img src=\"https://colab.research.google.com/assets/colab-badge.svg\" alt=\"Open In Colab\"/></a>"
      ]
    },
    {
      "cell_type": "code",
      "metadata": {
        "id": "Xi9s9tOtf-1o",
        "colab_type": "code",
        "colab": {}
      },
      "source": [
        "import pandas as pd\n",
        "from google.colab import drive"
      ],
      "execution_count": 0,
      "outputs": []
    },
    {
      "cell_type": "code",
      "metadata": {
        "id": "fTipZrmAj5_b",
        "colab_type": "code",
        "colab": {}
      },
      "source": [
        "# You can use pd.set_option() to make sure you see all the rows and columns in your dataframe\n",
        "pd.set_option('display.max_columns', None)  # or 1000\n",
        "pd.set_option('display.max_rows', None)  # or 1000"
      ],
      "execution_count": 0,
      "outputs": []
    },
    {
      "cell_type": "code",
      "metadata": {
        "id": "pjnsjnLBj-pf",
        "colab_type": "code",
        "outputId": "51680048-890f-46e1-e6c1-da8ac8989d4d",
        "colab": {
          "base_uri": "https://localhost:8080/",
          "height": 121
        }
      },
      "source": [
        "drive.mount('/content/drive')"
      ],
      "execution_count": 0,
      "outputs": [
        {
          "output_type": "stream",
          "text": [
            "Go to this URL in a browser: https://accounts.google.com/o/oauth2/auth?client_id=947318989803-6bn6qk8qdgf4n4g3pfee6491hc0brc4i.apps.googleusercontent.com&redirect_uri=urn%3Aietf%3Awg%3Aoauth%3A2.0%3Aoob&scope=email%20https%3A%2F%2Fwww.googleapis.com%2Fauth%2Fdocs.test%20https%3A%2F%2Fwww.googleapis.com%2Fauth%2Fdrive%20https%3A%2F%2Fwww.googleapis.com%2Fauth%2Fdrive.photos.readonly%20https%3A%2F%2Fwww.googleapis.com%2Fauth%2Fpeopleapi.readonly&response_type=code\n",
            "\n",
            "Enter your authorization code:\n",
            "··········\n",
            "Mounted at /content/drive\n"
          ],
          "name": "stdout"
        }
      ]
    },
    {
      "cell_type": "code",
      "metadata": {
        "id": "r1q4iUnlkJmO",
        "colab_type": "code",
        "colab": {}
      },
      "source": [
        "df = pd.read_csv('/content/drive/My Drive/Data for Python/cleaned_311_data_hw3.csv', header='infer')"
      ],
      "execution_count": 0,
      "outputs": []
    },
    {
      "cell_type": "code",
      "metadata": {
        "id": "ah297nf9kYkA",
        "colab_type": "code",
        "outputId": "cdab7cc1-00f9-48f2-e324-cb4be734b74a",
        "colab": {
          "base_uri": "https://localhost:8080/",
          "height": 168
        }
      },
      "source": [
        "set(df.complaint_type)"
      ],
      "execution_count": 0,
      "outputs": [
        {
          "output_type": "execute_result",
          "data": {
            "text/plain": [
              "{'Bridge Condition',\n",
              " 'Broken Parking Meter',\n",
              " 'Bus Stop Shelter Complaint',\n",
              " 'Graffiti',\n",
              " 'Highway Condition',\n",
              " 'Maintenance or Facility',\n",
              " 'Public Payphone Complaint',\n",
              " 'Public Toilet',\n",
              " 'School Maintenance'}"
            ]
          },
          "metadata": {
            "tags": []
          },
          "execution_count": 11
        }
      ]
    },
    {
      "cell_type": "code",
      "metadata": {
        "id": "7smddhB5k5FN",
        "colab_type": "code",
        "outputId": "9f6059e0-7fb3-44ab-a6ae-d3c9f9517196",
        "colab": {
          "base_uri": "https://localhost:8080/",
          "height": 1000
        }
      },
      "source": [
        "set(df.descriptor)"
      ],
      "execution_count": 0,
      "outputs": [
        {
          "output_type": "execute_result",
          "data": {
            "text/plain": [
              "{'Air Conditioning Problem',\n",
              " 'American Flag',\n",
              " 'Asbestos',\n",
              " 'Bent/Loose',\n",
              " 'Broken Fence',\n",
              " 'Broken Glass',\n",
              " 'Broken Lock',\n",
              " 'Broken Water Fountain',\n",
              " 'Broken Window',\n",
              " 'Cave-in',\n",
              " 'Coin or Card Did Not Register',\n",
              " 'Concrete Barrier',\n",
              " 'Crash Cushion Defect',\n",
              " 'Credit Card Stuck in Meter',\n",
              " 'Damaged Bench',\n",
              " 'Damaged Leg or Pole Bent',\n",
              " 'Damaged Other',\n",
              " 'Damaged Telephone',\n",
              " 'Damaged Toilet/Sink',\n",
              " 'Damaged or Leaking Roof',\n",
              " 'Damaged or Missing Ad Box',\n",
              " 'Dead Animal',\n",
              " 'Decorative Necklace Lighting',\n",
              " 'Dirt, Debris, Litter Complaint',\n",
              " 'Dirty/Graffiti',\n",
              " 'Fallen Debris from Bridge',\n",
              " 'Fence',\n",
              " 'Flooded',\n",
              " 'Garbage or Litter',\n",
              " 'Graffiti',\n",
              " 'Graffiti - Bridge',\n",
              " 'Graffiti - Highway',\n",
              " 'Graffiti or Vandalism',\n",
              " 'Graffiti/Litter on Phone',\n",
              " 'Grass/Weeds',\n",
              " 'Guard Rail - Bridge',\n",
              " 'Guard Rail - Highway',\n",
              " 'Heating Problem',\n",
              " 'High Grass',\n",
              " 'Highway Fence',\n",
              " 'Hours of Operation',\n",
              " 'Lack of Supplies',\n",
              " 'Leaky Roof',\n",
              " 'Lighting',\n",
              " 'Litter',\n",
              " 'Loose Plate',\n",
              " 'Lost Coin',\n",
              " 'Missing/Stump',\n",
              " 'New Automatic Public Toilet Request',\n",
              " 'No Dial Tone',\n",
              " 'No Receipt',\n",
              " 'Other School Condition',\n",
              " 'Out of Order',\n",
              " 'Painted Line/Marking',\n",
              " 'Parking Card Stuck in Meter',\n",
              " 'Phone Blocking Sidewalk',\n",
              " 'Plumbing Problem',\n",
              " 'Poison Ivy',\n",
              " 'Police Report Not Requested',\n",
              " 'Police Report Requested',\n",
              " 'Pothole',\n",
              " 'Pothole - Highway',\n",
              " 'Relocation of Parking Meter',\n",
              " 'Rodent Sighting',\n",
              " 'Rodents/Mice',\n",
              " 'Rough Pavement',\n",
              " 'Sign Blocked by Tree',\n",
              " 'Sign Missing or Defective',\n",
              " 'Snow Removal Requested',\n",
              " 'Snow on Overpass',\n",
              " 'Snow or Ice',\n",
              " 'Snow/Ice',\n",
              " 'Structure - Indoors',\n",
              " 'Structure - Outdoors',\n",
              " 'Timer Defect - Fast/Fail',\n",
              " 'Unclean Condition',\n",
              " 'Unsafe Worksite',\n",
              " 'Unsecured Facility'}"
            ]
          },
          "metadata": {
            "tags": []
          },
          "execution_count": 12
        }
      ]
    },
    {
      "cell_type": "code",
      "metadata": {
        "id": "eXGNeP9oqzsj",
        "colab_type": "code",
        "colab": {}
      },
      "source": [
        "def graffiti_finding(row):\n",
        "    if pd.notnull(row.descriptor):\n",
        "      if 'graffiti' in row.descriptor.lower():\n",
        "        return True\n",
        "      else:\n",
        "        return False\n",
        "    elif 'graffiti' in row.complaint_type.lower():\n",
        "      return True\n",
        "    else:\n",
        "      return False\n",
        "   "
      ],
      "execution_count": 0,
      "outputs": []
    },
    {
      "cell_type": "code",
      "metadata": {
        "id": "8L5qwozAsiiN",
        "colab_type": "code",
        "colab": {}
      },
      "source": [
        "df['graffiti_flag'] = df.apply(graffiti_finding, axis=1)"
      ],
      "execution_count": 0,
      "outputs": []
    },
    {
      "cell_type": "code",
      "metadata": {
        "id": "EwFFPxHus05X",
        "colab_type": "code",
        "outputId": "b299ee7d-8933-4d49-8218-bf66dd71be7c",
        "colab": {
          "base_uri": "https://localhost:8080/",
          "height": 84
        }
      },
      "source": [
        "df.groupby('graffiti_flag').size()"
      ],
      "execution_count": 0,
      "outputs": [
        {
          "output_type": "execute_result",
          "data": {
            "text/plain": [
              "graffiti_flag\n",
              "False    38485\n",
              "True     26092\n",
              "dtype: int64"
            ]
          },
          "metadata": {
            "tags": []
          },
          "execution_count": 15
        }
      ]
    },
    {
      "cell_type": "code",
      "metadata": {
        "id": "m4K2LPqQ2Qap",
        "colab_type": "code",
        "colab": {}
      },
      "source": [
        "df_graffiti=df[df.graffiti_flag]"
      ],
      "execution_count": 0,
      "outputs": []
    },
    {
      "cell_type": "code",
      "metadata": {
        "id": "WqAuPdSWvz50",
        "colab_type": "code",
        "outputId": "d88b0d79-89b4-49e5-803c-a7d793d4277c",
        "colab": {
          "base_uri": "https://localhost:8080/",
          "height": 143
        }
      },
      "source": [
        "df_graffiti.groupby('community_board').count().nlargest(1,'graffiti_flag')"
      ],
      "execution_count": 36,
      "outputs": [
        {
          "output_type": "execute_result",
          "data": {
            "text/html": [
              "<div>\n",
              "<style scoped>\n",
              "    .dataframe tbody tr th:only-of-type {\n",
              "        vertical-align: middle;\n",
              "    }\n",
              "\n",
              "    .dataframe tbody tr th {\n",
              "        vertical-align: top;\n",
              "    }\n",
              "\n",
              "    .dataframe thead th {\n",
              "        text-align: right;\n",
              "    }\n",
              "</style>\n",
              "<table border=\"1\" class=\"dataframe\">\n",
              "  <thead>\n",
              "    <tr style=\"text-align: right;\">\n",
              "      <th></th>\n",
              "      <th>Unnamed: 0</th>\n",
              "      <th>Unnamed: 0.1</th>\n",
              "      <th>unique_key</th>\n",
              "      <th>created_date</th>\n",
              "      <th>closed_date</th>\n",
              "      <th>agency</th>\n",
              "      <th>agency_name</th>\n",
              "      <th>complaint_type</th>\n",
              "      <th>descriptor</th>\n",
              "      <th>location_type</th>\n",
              "      <th>incident_zip</th>\n",
              "      <th>incident_address</th>\n",
              "      <th>street_name</th>\n",
              "      <th>cross_street_1</th>\n",
              "      <th>cross_street_2</th>\n",
              "      <th>intersection_street_1</th>\n",
              "      <th>intersection_street_2</th>\n",
              "      <th>address_type</th>\n",
              "      <th>city</th>\n",
              "      <th>landmark</th>\n",
              "      <th>facility_type</th>\n",
              "      <th>status</th>\n",
              "      <th>due_date</th>\n",
              "      <th>resolution_description</th>\n",
              "      <th>resolution_action_updated_date</th>\n",
              "      <th>bbl</th>\n",
              "      <th>borough</th>\n",
              "      <th>x_coordinate_(state_plane)</th>\n",
              "      <th>y_coordinate_(state_plane)</th>\n",
              "      <th>open_data_channel_type</th>\n",
              "      <th>park_facility_name</th>\n",
              "      <th>park_borough</th>\n",
              "      <th>vehicle_type</th>\n",
              "      <th>taxi_company_borough</th>\n",
              "      <th>taxi_pick_up_location</th>\n",
              "      <th>bridge_highway_name</th>\n",
              "      <th>bridge_highway_direction</th>\n",
              "      <th>road_ramp</th>\n",
              "      <th>bridge_highway_segment</th>\n",
              "      <th>latitude</th>\n",
              "      <th>longitude</th>\n",
              "      <th>location</th>\n",
              "      <th>graffiti_flag</th>\n",
              "    </tr>\n",
              "    <tr>\n",
              "      <th>community_board</th>\n",
              "      <th></th>\n",
              "      <th></th>\n",
              "      <th></th>\n",
              "      <th></th>\n",
              "      <th></th>\n",
              "      <th></th>\n",
              "      <th></th>\n",
              "      <th></th>\n",
              "      <th></th>\n",
              "      <th></th>\n",
              "      <th></th>\n",
              "      <th></th>\n",
              "      <th></th>\n",
              "      <th></th>\n",
              "      <th></th>\n",
              "      <th></th>\n",
              "      <th></th>\n",
              "      <th></th>\n",
              "      <th></th>\n",
              "      <th></th>\n",
              "      <th></th>\n",
              "      <th></th>\n",
              "      <th></th>\n",
              "      <th></th>\n",
              "      <th></th>\n",
              "      <th></th>\n",
              "      <th></th>\n",
              "      <th></th>\n",
              "      <th></th>\n",
              "      <th></th>\n",
              "      <th></th>\n",
              "      <th></th>\n",
              "      <th></th>\n",
              "      <th></th>\n",
              "      <th></th>\n",
              "      <th></th>\n",
              "      <th></th>\n",
              "      <th></th>\n",
              "      <th></th>\n",
              "      <th></th>\n",
              "      <th></th>\n",
              "      <th></th>\n",
              "      <th></th>\n",
              "    </tr>\n",
              "  </thead>\n",
              "  <tbody>\n",
              "    <tr>\n",
              "      <th>01 BROOKLYN</th>\n",
              "      <td>1777</td>\n",
              "      <td>1777</td>\n",
              "      <td>1777</td>\n",
              "      <td>1777</td>\n",
              "      <td>1233</td>\n",
              "      <td>1777</td>\n",
              "      <td>1777</td>\n",
              "      <td>1777</td>\n",
              "      <td>1777</td>\n",
              "      <td>1566</td>\n",
              "      <td>1777</td>\n",
              "      <td>1757</td>\n",
              "      <td>1757</td>\n",
              "      <td>6</td>\n",
              "      <td>6</td>\n",
              "      <td>9</td>\n",
              "      <td>9</td>\n",
              "      <td>1758</td>\n",
              "      <td>1777</td>\n",
              "      <td>3</td>\n",
              "      <td>0</td>\n",
              "      <td>1777</td>\n",
              "      <td>1733</td>\n",
              "      <td>1737</td>\n",
              "      <td>1776</td>\n",
              "      <td>1713</td>\n",
              "      <td>1777</td>\n",
              "      <td>1763</td>\n",
              "      <td>1763</td>\n",
              "      <td>1777</td>\n",
              "      <td>1777</td>\n",
              "      <td>1777</td>\n",
              "      <td>0</td>\n",
              "      <td>0</td>\n",
              "      <td>0</td>\n",
              "      <td>0</td>\n",
              "      <td>0</td>\n",
              "      <td>0</td>\n",
              "      <td>0</td>\n",
              "      <td>1763</td>\n",
              "      <td>1763</td>\n",
              "      <td>1763</td>\n",
              "      <td>1777</td>\n",
              "    </tr>\n",
              "  </tbody>\n",
              "</table>\n",
              "</div>"
            ],
            "text/plain": [
              "                 Unnamed: 0  Unnamed: 0.1  unique_key  created_date  \\\n",
              "community_board                                                       \n",
              "01 BROOKLYN            1777          1777        1777          1777   \n",
              "\n",
              "                 closed_date  agency  agency_name  complaint_type  descriptor  \\\n",
              "community_board                                                                 \n",
              "01 BROOKLYN             1233    1777         1777            1777        1777   \n",
              "\n",
              "                 location_type  incident_zip  incident_address  street_name  \\\n",
              "community_board                                                               \n",
              "01 BROOKLYN               1566          1777              1757         1757   \n",
              "\n",
              "                 cross_street_1  cross_street_2  intersection_street_1  \\\n",
              "community_board                                                          \n",
              "01 BROOKLYN                   6               6                      9   \n",
              "\n",
              "                 intersection_street_2  address_type  city  landmark  \\\n",
              "community_board                                                        \n",
              "01 BROOKLYN                          9          1758  1777         3   \n",
              "\n",
              "                 facility_type  status  due_date  resolution_description  \\\n",
              "community_board                                                            \n",
              "01 BROOKLYN                  0    1777      1733                    1737   \n",
              "\n",
              "                 resolution_action_updated_date   bbl  borough  \\\n",
              "community_board                                                  \n",
              "01 BROOKLYN                                1776  1713     1777   \n",
              "\n",
              "                 x_coordinate_(state_plane)  y_coordinate_(state_plane)  \\\n",
              "community_board                                                           \n",
              "01 BROOKLYN                            1763                        1763   \n",
              "\n",
              "                 open_data_channel_type  park_facility_name  park_borough  \\\n",
              "community_board                                                             \n",
              "01 BROOKLYN                        1777                1777          1777   \n",
              "\n",
              "                 vehicle_type  taxi_company_borough  taxi_pick_up_location  \\\n",
              "community_board                                                              \n",
              "01 BROOKLYN                 0                     0                      0   \n",
              "\n",
              "                 bridge_highway_name  bridge_highway_direction  road_ramp  \\\n",
              "community_board                                                             \n",
              "01 BROOKLYN                        0                         0          0   \n",
              "\n",
              "                 bridge_highway_segment  latitude  longitude  location  \\\n",
              "community_board                                                          \n",
              "01 BROOKLYN                           0      1763       1763      1763   \n",
              "\n",
              "                 graffiti_flag  \n",
              "community_board                 \n",
              "01 BROOKLYN               1777  "
            ]
          },
          "metadata": {
            "tags": []
          },
          "execution_count": 36
        }
      ]
    },
    {
      "cell_type": "code",
      "metadata": {
        "id": "G5ypHmk1lxXu",
        "colab_type": "code",
        "colab": {}
      },
      "source": [
        "df_result=df_graffiti.groupby('community_board').count().nlargest(1,'graffiti_flag')"
      ],
      "execution_count": 0,
      "outputs": []
    },
    {
      "cell_type": "code",
      "metadata": {
        "id": "9pQq1l8doV3y",
        "colab_type": "code",
        "colab": {
          "base_uri": "https://localhost:8080/",
          "height": 67
        },
        "outputId": "c515bef5-59e0-459d-e545-b56b2955cd67"
      },
      "source": [
        "df_result['graffiti_flag']"
      ],
      "execution_count": 44,
      "outputs": [
        {
          "output_type": "execute_result",
          "data": {
            "text/plain": [
              "community_board\n",
              "01 BROOKLYN    1777\n",
              "Name: graffiti_flag, dtype: int64"
            ]
          },
          "metadata": {
            "tags": []
          },
          "execution_count": 44
        }
      ]
    }
  ]
}
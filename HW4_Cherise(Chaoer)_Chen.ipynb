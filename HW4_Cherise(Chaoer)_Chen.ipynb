{
  "nbformat": 4,
  "nbformat_minor": 0,
  "metadata": {
    "colab": {
      "name": "HW4_Cherise(Chaoer) Chen.ipynb",
      "provenance": [],
      "collapsed_sections": [],
      "include_colab_link": true
    },
    "kernelspec": {
      "name": "python3",
      "display_name": "Python 3"
    }
  },
  "cells": [
    {
      "cell_type": "markdown",
      "metadata": {
        "id": "view-in-github",
        "colab_type": "text"
      },
      "source": [
        "<a href=\"https://colab.research.google.com/github/LECherise/nyu-python-public-policy/blob/master/HW4_Cherise(Chaoer)_Chen.ipynb\" target=\"_parent\"><img src=\"https://colab.research.google.com/assets/colab-badge.svg\" alt=\"Open In Colab\"/></a>"
      ]
    },
    {
      "cell_type": "markdown",
      "metadata": {
        "id": "7fo4kU_UjgyY",
        "colab_type": "text"
      },
      "source": [
        "# **NYU Wagner - Python Coding for Public Policy**\n",
        "# Starter notebook for HW 4: Analyzing and visualizing specific categories of 311 complaints"
      ]
    },
    {
      "cell_type": "markdown",
      "metadata": {
        "id": "9rvnMzjSMK36",
        "colab_type": "text"
      },
      "source": [
        "## Start by importing necessary packages"
      ]
    },
    {
      "cell_type": "code",
      "metadata": {
        "id": "afIn7RhGFj7j",
        "colab_type": "code",
        "colab": {}
      },
      "source": [
        "import pandas as pd\n",
        "import matplotlib.pyplot as plt \n",
        "import numpy as np\n",
        "\n",
        "from google.colab import drive\n",
        "\n",
        "pd.set_option('display.max_columns', None)\n",
        "pd.set_option('display.max_rows', None)"
      ],
      "execution_count": 0,
      "outputs": []
    },
    {
      "cell_type": "markdown",
      "metadata": {
        "id": "R1G04BmMMFJb",
        "colab_type": "text"
      },
      "source": [
        "## Read and save our cleaned 311 Service Requests dataset as a pandas dataframe named \"df\""
      ]
    },
    {
      "cell_type": "code",
      "metadata": {
        "id": "vF4GZaq-Fvoq",
        "colab_type": "code",
        "outputId": "1489228e-8dc2-4e34-a327-566b75200276",
        "colab": {
          "base_uri": "https://localhost:8080/",
          "height": 154
        }
      },
      "source": [
        "drive.mount('/content/drive')\n",
        "df = pd.read_csv('/content/drive/My Drive/Data for Python/cleaned_311_data.csv', header='infer')"
      ],
      "execution_count": 2,
      "outputs": [
        {
          "output_type": "stream",
          "text": [
            "Go to this URL in a browser: https://accounts.google.com/o/oauth2/auth?client_id=947318989803-6bn6qk8qdgf4n4g3pfee6491hc0brc4i.apps.googleusercontent.com&redirect_uri=urn%3aietf%3awg%3aoauth%3a2.0%3aoob&response_type=code&scope=email%20https%3a%2f%2fwww.googleapis.com%2fauth%2fdocs.test%20https%3a%2f%2fwww.googleapis.com%2fauth%2fdrive%20https%3a%2f%2fwww.googleapis.com%2fauth%2fdrive.photos.readonly%20https%3a%2f%2fwww.googleapis.com%2fauth%2fpeopleapi.readonly\n",
            "\n",
            "Enter your authorization code:\n",
            "··········\n",
            "Mounted at /content/drive\n"
          ],
          "name": "stdout"
        },
        {
          "output_type": "stream",
          "text": [
            "/usr/local/lib/python3.6/dist-packages/IPython/core/interactiveshell.py:2718: DtypeWarning: Columns (9,18,21,32,35) have mixed types. Specify dtype option on import or set low_memory=False.\n",
            "  interactivity=interactivity, compiler=compiler, result=result)\n"
          ],
          "name": "stderr"
        }
      ]
    },
    {
      "cell_type": "markdown",
      "metadata": {
        "id": "LvGH8N9CLcj4",
        "colab_type": "text"
      },
      "source": [
        "## **Problem Statement:** \n",
        "There seems to be a general trend that the higher the community district population, the higher the number of 311 requests. However, there is a lot of variance in the data. What if we only look at complaint types that are likely influenced by population?\n",
        "\n",
        "\"Noise - Residential\" and \"HEAT/HOT WATER\" were the most frequest requests in the entire 311 dataset. Let's try isolating the count of requests in each of those two categories versus all the other complaints."
      ]
    },
    {
      "cell_type": "markdown",
      "metadata": {
        "id": "xmKsEI-BkoXZ",
        "colab_type": "text"
      },
      "source": [
        "**Step 1**. First you will need to prep your data to get the count of complaints categorized as Noise - Residential, HEAT/HOT WATER, and everything else. You can update the code from lecture that gets the total count of 311 requests per CD to instead get the count of 311 requests per CD that meet the criteria for the 3 categories. You should create three separate dataframes, one per category:\n",
        "\n",
        "1. `complaint_type = 'Noise - Residential'`\n",
        "2. `complaint_type = 'HEAT/HOT WATER'`\n",
        "3. Everything else: `(complaint_type != 'Noise - Residential') & (complaint_type != 'HEAT/HOT WATER')`"
      ]
    },
    {
      "cell_type": "markdown",
      "metadata": {
        "id": "WLfodgid1PUf",
        "colab_type": "text"
      },
      "source": [
        "First create 3 dataframes, that contain the desired rows based on the complaint_type row filtering."
      ]
    },
    {
      "cell_type": "code",
      "metadata": {
        "id": "troJZFWgq9zg",
        "colab_type": "code",
        "colab": {}
      },
      "source": [
        "noise = df[df.complaint_type == 'Noise - Residential']\n",
        "heatwater = df[df.complaint_type == 'HEAT/HOT WATER']\n",
        "other = df[(df.complaint_type != 'HEAT/HOT WATER') & (df.complaint_type != 'Noise - Residential')]"
      ],
      "execution_count": 0,
      "outputs": []
    },
    {
      "cell_type": "markdown",
      "metadata": {
        "id": "Y4zBrzYhUDP3",
        "colab_type": "text"
      },
      "source": [
        "Then group each dataframes by the `community_board` value to get the count of request per community district."
      ]
    },
    {
      "cell_type": "code",
      "metadata": {
        "id": "hLIoPlYrUClp",
        "colab_type": "code",
        "outputId": "3bd3e213-3511-4095-dff1-859a09c5d0a6",
        "colab": {
          "base_uri": "https://localhost:8080/",
          "height": 84
        }
      },
      "source": [
        "count_noise = noise.groupby('community_board').size().reset_index(name='count_of_311_requests')\n",
        "print(len(count_noise))\n",
        "\n",
        "count_heatwater = heatwater.groupby('community_board').size().reset_index(name='count_of_311_requests')\n",
        "print(len(count_heatwater))\n",
        "\n",
        "count_other = other.groupby('community_board').size().reset_index(name='count_of_311_requests')\n",
        "print(len(count_other))\n",
        "\n",
        "# note: we won't use count_all in the charts, but we can use it as a check that the subsets all add up to the correct total\n",
        "count_all = df.groupby('community_board').size().reset_index(name='count_of_311_requests')\n",
        "print(len(count_all))"
      ],
      "execution_count": 4,
      "outputs": [
        {
          "output_type": "stream",
          "text": [
            "69\n",
            "66\n",
            "77\n",
            "77\n"
          ],
          "name": "stdout"
        }
      ]
    },
    {
      "cell_type": "markdown",
      "metadata": {
        "id": "JCA-z7Go0_BM",
        "colab_type": "text"
      },
      "source": [
        "Note the lengths of these dataframes. We can see that we're going to run into problems, because they're each a different length (i.e. have a different number of rows) and they're all greater than 59. There are only 59 community districts in the city, so these dataframes are including some extra invalid community district rows. The invalid rows include community board values containing \"Unspecified\" or district numbers that are higher than what exist in real life. Ex: '84 QUEENS', 'Unspecified BRONX'\n"
      ]
    },
    {
      "cell_type": "markdown",
      "metadata": {
        "id": "bFtFoNIh2OUo",
        "colab_type": "text"
      },
      "source": [
        "Here's a list of all the valid borocd values that exist in the city:"
      ]
    },
    {
      "cell_type": "code",
      "metadata": {
        "id": "ATGOqZ4E2H3f",
        "colab_type": "code",
        "colab": {}
      },
      "source": [
        "valid_borocds = ['101','102','103','104','105','106','107','108','109','110','111','112','201','202','203','204','205','206','207','208','209','210','211','212','301','302','303','304','305','306','307','308','309','310','311','312','313','314','315','316','317','318','401','402','403','404','405','406','407','408','409','410','411','412','413','414','501','502','503']"
      ],
      "execution_count": 0,
      "outputs": []
    },
    {
      "cell_type": "markdown",
      "metadata": {
        "id": "lxVd_nzZ1zHM",
        "colab_type": "text"
      },
      "source": [
        "If we recode the community_board column into borocd, we can filter our dataframes to only keep valid borocd rows"
      ]
    },
    {
      "cell_type": "code",
      "metadata": {
        "id": "DJwokPlrGNKv",
        "colab_type": "code",
        "colab": {}
      },
      "source": [
        "# this function will recode the community_board value into borocd in a new column\n",
        "\n",
        "def recode_borocd_counts(row):\n",
        "  if row.community_board[0] != 'U':\n",
        "    if 'MANHATTAN' in row.community_board:\n",
        "      return '1' + row.community_board[0:2]\n",
        "    elif 'BRONX' in row.community_board:\n",
        "      return '2' + row.community_board[0:2]\n",
        "    elif 'BROOKLYN' in row.community_board:\n",
        "      return '3' + row.community_board[0:2]\n",
        "    elif 'QUEENS' in row.community_board:\n",
        "      return '4' + row.community_board[0:2]\n",
        "    elif 'STATEN ISLAND' in row.community_board:\n",
        "      return '5' + row.community_board[0:2]\n",
        "  else:\n",
        "    return 'Invalid borocd'\n",
        "\n",
        "# we can apply the function to each of our dataframes. this is the beauty of functions; you can reuse them on multiple objects!\n",
        "\n",
        "count_noise['borocd'] = count_noise.apply(recode_borocd_counts, axis=1)\n",
        "\n",
        "count_heatwater['borocd'] = count_heatwater.apply(recode_borocd_counts, axis=1)\n",
        "\n",
        "count_other['borocd'] = count_other.apply(recode_borocd_counts, axis=1)\n",
        "\n",
        "count_all['borocd'] = count_all.apply(recode_borocd_counts, axis=1)"
      ],
      "execution_count": 0,
      "outputs": []
    },
    {
      "cell_type": "markdown",
      "metadata": {
        "id": "sud8LNl03bkK",
        "colab_type": "text"
      },
      "source": [
        "Now we can filter the dataframes to only keep the valid borocd rows. Remember the `.isin()` function from one of our prior lectures?"
      ]
    },
    {
      "cell_type": "code",
      "metadata": {
        "id": "APZ8jJwJ3Bmy",
        "colab_type": "code",
        "outputId": "ed4dd387-b69a-4e42-8f87-54e51c393c87",
        "colab": {
          "base_uri": "https://localhost:8080/",
          "height": 84
        }
      },
      "source": [
        "count_noise = count_noise[count_noise.borocd.isin(valid_borocds)]\n",
        "print(len(count_noise))\n",
        "\n",
        "count_heatwater = count_heatwater[count_heatwater.borocd.isin(valid_borocds)]\n",
        "print(len(count_heatwater))\n",
        "\n",
        "count_other = count_other[count_other.borocd.isin(valid_borocds)]\n",
        "print(len(count_other))\n",
        "\n",
        "count_all = count_all[count_all.borocd.isin(valid_borocds)]\n",
        "print(len(count_all))"
      ],
      "execution_count": 7,
      "outputs": [
        {
          "output_type": "stream",
          "text": [
            "59\n",
            "59\n",
            "59\n",
            "59\n"
          ],
          "name": "stdout"
        }
      ]
    },
    {
      "cell_type": "markdown",
      "metadata": {
        "id": "lzg5cgR93vgD",
        "colab_type": "text"
      },
      "source": [
        "Great, now we have clean dataframes that are all the same, correct length. Let's make sure the 311 request counts add up as expected."
      ]
    },
    {
      "cell_type": "code",
      "metadata": {
        "id": "9fAx9jYT459Q",
        "colab_type": "code",
        "outputId": "9d8495ad-a3c4-4825-a7aa-91b9e02b3586",
        "colab": {
          "base_uri": "https://localhost:8080/",
          "height": 420
        }
      },
      "source": [
        "print(count_noise.head())\n",
        "print(count_heatwater.head())\n",
        "print(count_other.head())\n",
        "print(count_all.head())"
      ],
      "execution_count": 8,
      "outputs": [
        {
          "output_type": "stream",
          "text": [
            "    community_board  count_of_311_requests borocd\n",
            "1          01 BRONX                   3691    201\n",
            "2       01 BROOKLYN                   5844    301\n",
            "3      01 MANHATTAN                    722    101\n",
            "4         01 QUEENS                   4589    401\n",
            "5  01 STATEN ISLAND                   5052    501\n",
            "    community_board  count_of_311_requests borocd\n",
            "0          01 BRONX                   3346    201\n",
            "1       01 BROOKLYN                   2868    301\n",
            "2      01 MANHATTAN                    276    101\n",
            "3         01 QUEENS                   2466    401\n",
            "4  01 STATEN ISLAND                   1644    501\n",
            "    community_board  count_of_311_requests borocd\n",
            "1          01 BRONX                  20316    201\n",
            "2       01 BROOKLYN                  59389    301\n",
            "3      01 MANHATTAN                  20261    101\n",
            "4         01 QUEENS                  53370    401\n",
            "5  01 STATEN ISLAND                  58449    501\n",
            "    community_board  count_of_311_requests borocd\n",
            "1          01 BRONX                  27353    201\n",
            "2       01 BROOKLYN                  68101    301\n",
            "3      01 MANHATTAN                  21259    101\n",
            "4         01 QUEENS                  60425    401\n",
            "5  01 STATEN ISLAND                  65145    501\n"
          ],
          "name": "stdout"
        }
      ]
    },
    {
      "cell_type": "code",
      "metadata": {
        "id": "PuNKZhxg-VLg",
        "colab_type": "code",
        "outputId": "08754f9a-41ca-40e4-d000-26fcd9bdb59c",
        "colab": {
          "base_uri": "https://localhost:8080/",
          "height": 34
        }
      },
      "source": [
        "27353 == 20316 + 3346 + 3691"
      ],
      "execution_count": 9,
      "outputs": [
        {
          "output_type": "execute_result",
          "data": {
            "text/plain": [
              "True"
            ]
          },
          "metadata": {
            "tags": []
          },
          "execution_count": 9
        }
      ]
    },
    {
      "cell_type": "markdown",
      "metadata": {
        "id": "ih2iDxK9RlnM",
        "colab_type": "text"
      },
      "source": [
        "Everything adds up, and we're ready to start Step 2"
      ]
    },
    {
      "cell_type": "markdown",
      "metadata": {
        "id": "1X6gVfhFlXf_",
        "colab_type": "text"
      },
      "source": [
        "**Step 2**. Create a stacked bar chart of 311 requests per community district. Each community district bar should be comprised of three stacked bars, one for each category listed below. The total height of each community district bar (the sum of the three stacked bars) should reflect the total count of 311 complaints per community district.\n",
        "- number of `'Noise - Residential'` complaints per community district\n",
        "- number of `'HEAT/HOT WATER'` complaints per community district\n",
        "- number of other complaints per community district "
      ]
    },
    {
      "cell_type": "code",
      "metadata": {
        "id": "jsNkB18-f1fG",
        "colab_type": "code",
        "colab": {
          "base_uri": "https://localhost:8080/",
          "height": 413
        },
        "outputId": "f3d9662d-f0ba-4565-e890-2306681d8b11"
      },
      "source": [
        "N = 59\n",
        "df1 = count_noise['count_of_311_requests'].to_numpy()\n",
        "df2 = count_heatwater['count_of_311_requests'].to_numpy()\n",
        "df3 = count_other['count_of_311_requests'].to_numpy()\n",
        "\n",
        "ind = np.arange(N)    # the x locations for the groups\n",
        "width = 0.35       # the width of the bars: can also be len(x) sequence\n",
        "\n",
        "plt.figure(figsize=(15, 6))\n",
        "\n",
        "p1 = plt.bar(ind, df1, width)\n",
        "p2 = plt.bar(ind, df2, width,\n",
        "             bottom=df1)\n",
        "p3 = plt.bar(ind, df3, width,\n",
        "             bottom=df2)\n",
        "\n",
        "plt.xticks(ind, count_noise.sort_values(by='count_of_311_requests', ascending=False).borocd, rotation=90)\n",
        "\n",
        "plt.ylabel('count_of_311_requests')\n",
        "plt.title('count_of_311_requests complaint type')\n",
        "plt.xlabel('BoroCD')\n",
        "\n",
        "plt.legend((p1[0], p2[0],p3[0]), ('Noise', 'Heatwater','Others'))\n",
        "\n",
        "plt.show()\n"
      ],
      "execution_count": 41,
      "outputs": [
        {
          "output_type": "display_data",
          "data": {
            "image/png": "[encoded data removed]",
            "text/plain": [
              "<Figure size 1080x432 with 1 Axes>"
            ]
          },
          "metadata": {
            "tags": []
          }
        }
      ]
    },
    {
      "cell_type": "markdown",
      "metadata": {
        "id": "OmKWCK9GlzgY",
        "colab_type": "text"
      },
      "source": [
        "**Step 3**. Using the same three dataframes created in Step 1, create a scatter plot of community district population (x-axis) vs. community district 311 counts (y-axis) split out by complaint category (noise, heat/water, other). The scatter plot should show the counts of each of the three complaint categories in a different color."
      ]
    },
    {
      "cell_type": "code",
      "metadata": {
        "id": "3PxK7c2qpCye",
        "colab_type": "code",
        "colab": {
          "base_uri": "https://localhost:8080/",
          "height": 50
        },
        "outputId": "67f70482-de14-4e26-ebfa-62d04a673282"
      },
      "source": [
        "df = pd.read_csv('/content/drive/My Drive/Data for Python/cleaned_311_data.csv', header='infer')"
      ],
      "execution_count": 48,
      "outputs": [
        {
          "output_type": "stream",
          "text": [
            "/usr/local/lib/python3.6/dist-packages/IPython/core/interactiveshell.py:2718: DtypeWarning: Columns (9,18,21,32,35) have mixed types. Specify dtype option on import or set low_memory=False.\n",
            "  interactivity=interactivity, compiler=compiler, result=result)\n"
          ],
          "name": "stderr"
        }
      ]
    },
    {
      "cell_type": "code",
      "metadata": {
        "id": "XfwJSe0cpQUb",
        "colab_type": "code",
        "colab": {}
      },
      "source": [
        "cb_counts = df.groupby('community_board').size().reset_index(name='count_of_311_requests')"
      ],
      "execution_count": 0,
      "outputs": []
    },
    {
      "cell_type": "code",
      "metadata": {
        "id": "h7NXAchxpS19",
        "colab_type": "code",
        "colab": {}
      },
      "source": [
        "# this function will recode the community_board value into borocd in a new column\n",
        "  def recode_borocd_counts(row):\n",
        "    if row.community_board[0] != 'U':\n",
        "      if 'MANHATTAN' in row.community_board:\n",
        "        return '1' + row.community_board[:2]\n",
        "      elif 'BRONX' in row.community_board:\n",
        "        return '2' + row.community_board[:2]\n",
        "      elif 'BROOKLYN' in row.community_board:\n",
        "        return '3' + row.community_board[:2]\n",
        "      elif 'QUEENS' in row.community_board:\n",
        "        return '4' + row.community_board[:2]\n",
        "      elif 'STATEN ISLAND' in row.community_board:\n",
        "        return '5' + row.community_board[:2]\n",
        "    else:\n",
        "      return 'Invalid borocd'\n",
        "\n",
        "cb_counts['borocd'] = cb_counts.apply(recode_borocd_counts, axis=1)"
      ],
      "execution_count": 0,
      "outputs": []
    },
    {
      "cell_type": "code",
      "metadata": {
        "id": "ratK8NfLoinY",
        "colab_type": "code",
        "colab": {
          "base_uri": "https://localhost:8080/",
          "height": 195
        },
        "outputId": "64327041-6b32-4f87-8c01-24aa0340e727"
      },
      "source": [
        "population = pd.read_csv('https://data.cityofnewyork.us/api/views/xi7c-iiu2/rows.csv?accessType=DOWNLOAD', header='infer')\n",
        "population.head()"
      ],
      "execution_count": 45,
      "outputs": [
        {
          "output_type": "execute_result",
          "data": {
            "text/html": [
              "<div>\n",
              "<style scoped>\n",
              "    .dataframe tbody tr th:only-of-type {\n",
              "        vertical-align: middle;\n",
              "    }\n",
              "\n",
              "    .dataframe tbody tr th {\n",
              "        vertical-align: top;\n",
              "    }\n",
              "\n",
              "    .dataframe thead th {\n",
              "        text-align: right;\n",
              "    }\n",
              "</style>\n",
              "<table border=\"1\" class=\"dataframe\">\n",
              "  <thead>\n",
              "    <tr style=\"text-align: right;\">\n",
              "      <th></th>\n",
              "      <th>Borough</th>\n",
              "      <th>CD Number</th>\n",
              "      <th>CD Name</th>\n",
              "      <th>1970 Population</th>\n",
              "      <th>1980 Population</th>\n",
              "      <th>1990 Population</th>\n",
              "      <th>2000 Population</th>\n",
              "      <th>2010 Population</th>\n",
              "    </tr>\n",
              "  </thead>\n",
              "  <tbody>\n",
              "    <tr>\n",
              "      <th>0</th>\n",
              "      <td>Bronx</td>\n",
              "      <td>1</td>\n",
              "      <td>Melrose, Mott Haven, Port Morris</td>\n",
              "      <td>138557</td>\n",
              "      <td>78441</td>\n",
              "      <td>77214</td>\n",
              "      <td>82159</td>\n",
              "      <td>91497</td>\n",
              "    </tr>\n",
              "    <tr>\n",
              "      <th>1</th>\n",
              "      <td>Bronx</td>\n",
              "      <td>2</td>\n",
              "      <td>Hunts Point, Longwood</td>\n",
              "      <td>99493</td>\n",
              "      <td>34399</td>\n",
              "      <td>39443</td>\n",
              "      <td>46824</td>\n",
              "      <td>52246</td>\n",
              "    </tr>\n",
              "    <tr>\n",
              "      <th>2</th>\n",
              "      <td>Bronx</td>\n",
              "      <td>3</td>\n",
              "      <td>Morrisania, Crotona Park East</td>\n",
              "      <td>150636</td>\n",
              "      <td>53635</td>\n",
              "      <td>57162</td>\n",
              "      <td>68574</td>\n",
              "      <td>79762</td>\n",
              "    </tr>\n",
              "    <tr>\n",
              "      <th>3</th>\n",
              "      <td>Bronx</td>\n",
              "      <td>4</td>\n",
              "      <td>Highbridge, Concourse Village</td>\n",
              "      <td>144207</td>\n",
              "      <td>114312</td>\n",
              "      <td>119962</td>\n",
              "      <td>139563</td>\n",
              "      <td>146441</td>\n",
              "    </tr>\n",
              "    <tr>\n",
              "      <th>4</th>\n",
              "      <td>Bronx</td>\n",
              "      <td>5</td>\n",
              "      <td>University Hts., Fordham, Mt. Hope</td>\n",
              "      <td>121807</td>\n",
              "      <td>107995</td>\n",
              "      <td>118435</td>\n",
              "      <td>128313</td>\n",
              "      <td>128200</td>\n",
              "    </tr>\n",
              "  </tbody>\n",
              "</table>\n",
              "</div>"
            ],
            "text/plain": [
              "  Borough  CD Number                             CD Name  1970 Population  \\\n",
              "0   Bronx          1    Melrose, Mott Haven, Port Morris           138557   \n",
              "1   Bronx          2               Hunts Point, Longwood            99493   \n",
              "2   Bronx          3       Morrisania, Crotona Park East           150636   \n",
              "3   Bronx          4       Highbridge, Concourse Village           144207   \n",
              "4   Bronx          5  University Hts., Fordham, Mt. Hope           121807   \n",
              "\n",
              "   1980 Population  1990 Population  2000 Population  2010 Population  \n",
              "0            78441            77214            82159            91497  \n",
              "1            34399            39443            46824            52246  \n",
              "2            53635            57162            68574            79762  \n",
              "3           114312           119962           139563           146441  \n",
              "4           107995           118435           128313           128200  "
            ]
          },
          "metadata": {
            "tags": []
          },
          "execution_count": 45
        }
      ]
    },
    {
      "cell_type": "code",
      "metadata": {
        "id": "ckgFRbSgo3-a",
        "colab_type": "code",
        "colab": {}
      },
      "source": [
        "# Create a function recode_borocd_pop that combines and recodes the Borough and CD Number values to create a borocd unique ID\n",
        "\n",
        "def recode_borocd_pop(row):\n",
        "  if row.Borough == 'Manhattan':\n",
        "    return str(100 + row['CD Number'])\n",
        "  elif row.Borough == 'Bronx':\n",
        "    return str(200 + row['CD Number'])\n",
        "  elif row.Borough == 'Brooklyn':\n",
        "    return str(300 + row['CD Number'])\n",
        "  elif row.Borough == 'Queens':\n",
        "    return str(400 + row['CD Number'])\n",
        "  elif row.Borough == 'Staten Island':\n",
        "    return str(500 + row['CD Number'])\n",
        "  else:\n",
        "    return 'Invalid borocd'\n",
        "\n",
        "population['borocd'] = population.apply(recode_borocd_pop, axis=1)"
      ],
      "execution_count": 0,
      "outputs": []
    },
    {
      "cell_type": "code",
      "metadata": {
        "id": "-FrHpPAro8G1",
        "colab_type": "code",
        "colab": {}
      },
      "source": [
        "# now lets join this population data onto our CD dataset\n",
        "# the default setting for merge is an inner join\n",
        "\n",
        "merged_data = pd.merge(left=cb_counts, right=population, left_on='borocd', right_on='borocd')"
      ],
      "execution_count": 0,
      "outputs": []
    },
    {
      "cell_type": "code",
      "metadata": {
        "id": "3Glz2Q2IpdCA",
        "colab_type": "code",
        "colab": {
          "base_uri": "https://localhost:8080/",
          "height": 195
        },
        "outputId": "7ea9b7fb-3cb5-4567-d28f-c1a2174fe1b2"
      },
      "source": [
        "# let's create a simplified new dataframe that only include the columns we care about and in a better order\n",
        "\n",
        "cd_data = merged_data[['borocd', '2010 Population']]\n",
        "cd_data.head()"
      ],
      "execution_count": 54,
      "outputs": [
        {
          "output_type": "execute_result",
          "data": {
            "text/html": [
              "<div>\n",
              "<style scoped>\n",
              "    .dataframe tbody tr th:only-of-type {\n",
              "        vertical-align: middle;\n",
              "    }\n",
              "\n",
              "    .dataframe tbody tr th {\n",
              "        vertical-align: top;\n",
              "    }\n",
              "\n",
              "    .dataframe thead th {\n",
              "        text-align: right;\n",
              "    }\n",
              "</style>\n",
              "<table border=\"1\" class=\"dataframe\">\n",
              "  <thead>\n",
              "    <tr style=\"text-align: right;\">\n",
              "      <th></th>\n",
              "      <th>borocd</th>\n",
              "      <th>2010 Population</th>\n",
              "    </tr>\n",
              "  </thead>\n",
              "  <tbody>\n",
              "    <tr>\n",
              "      <th>0</th>\n",
              "      <td>201</td>\n",
              "      <td>91497</td>\n",
              "    </tr>\n",
              "    <tr>\n",
              "      <th>1</th>\n",
              "      <td>301</td>\n",
              "      <td>173083</td>\n",
              "    </tr>\n",
              "    <tr>\n",
              "      <th>2</th>\n",
              "      <td>101</td>\n",
              "      <td>60978</td>\n",
              "    </tr>\n",
              "    <tr>\n",
              "      <th>3</th>\n",
              "      <td>401</td>\n",
              "      <td>191105</td>\n",
              "    </tr>\n",
              "    <tr>\n",
              "      <th>4</th>\n",
              "      <td>501</td>\n",
              "      <td>175756</td>\n",
              "    </tr>\n",
              "  </tbody>\n",
              "</table>\n",
              "</div>"
            ],
            "text/plain": [
              "  borocd  2010 Population\n",
              "0    201            91497\n",
              "1    301           173083\n",
              "2    101            60978\n",
              "3    401           191105\n",
              "4    501           175756"
            ]
          },
          "metadata": {
            "tags": []
          },
          "execution_count": 54
        }
      ]
    },
    {
      "cell_type": "code",
      "metadata": {
        "id": "wMKwQxj5l0xp",
        "colab_type": "code",
        "colab": {
          "base_uri": "https://localhost:8080/",
          "height": 404
        },
        "outputId": "8dc733fc-f42c-4629-de81-3c2adbb4861b"
      },
      "source": [
        "# define the color to be used for the markers for each data subset group\n",
        "colors = [\"red\", \"green\", \"blue\"]\n",
        "\n",
        "# define the labels to be used for the data subset group\n",
        "groups = [\"count_noise\", \"count_heatwater\", \"count_other\"]\n",
        "\n",
        "plt.figure(figsize=(15,6))\n",
        "\n",
        "plt.scatter(\n",
        "  cd_data['2010 Population'].to_numpy(),\n",
        "  count_noise['count_of_311_requests'].to_numpy(),\n",
        "  alpha=0.8,\n",
        "  c=colors[0],\n",
        "  label=groups[0]\n",
        ")\n",
        "# each new plot gets rendered on top of the previous one\n",
        "plt.scatter(\n",
        "  cd_data['2010 Population'].to_numpy(),\n",
        "  count_heatwater['count_of_311_requests'].to_numpy(),\n",
        "  alpha=0.8,\n",
        "  c=colors[1],\n",
        "  label=groups[1]\n",
        ")\n",
        "\n",
        "plt.scatter(\n",
        "  cd_data['2010 Population'].to_numpy(),\n",
        "  count_other['count_of_311_requests'].to_numpy(),\n",
        "  alpha=0.8,\n",
        "  c=colors[2],\n",
        "  label=groups[2]\n",
        ")\n",
        "\n",
        "\n",
        "plt.title('community district population (x-axis) vs. community district 311 counts (y-axis)')\n",
        "plt.xlabel('community district population')\n",
        "plt.ylabel('community district 311 counts')\n",
        "\n",
        "# add legend at specified location\n",
        "# loc=1 top right\n",
        "# loc=2 top left\n",
        "# loc=3 bottom left\n",
        "# loc=4 bottom right\n",
        "plt.legend(loc=2)\n",
        "\n",
        "plt.show()"
      ],
      "execution_count": 65,
      "outputs": [
        {
          "output_type": "display_data",
          "data": {
            "image/png": "[encoded data removed]",
            "text/plain": [
              "<Figure size 1080x432 with 1 Axes>"
            ]
          },
          "metadata": {
            "tags": []
          }
        }
      ]
    },
    {
      "cell_type": "markdown",
      "metadata": {
        "id": "cEpkaB9wYOw8",
        "colab_type": "text"
      },
      "source": [
        "Does it seem like there's a positive correlation between population and noise complaints or population and heat/water complaints? What's a possible explanation for the relationship or lack of relationship?"
      ]
    },
    {
      "cell_type": "code",
      "metadata": {
        "id": "7ySWACOIsLYP",
        "colab_type": "code",
        "colab": {}
      },
      "source": [
        "# It seems there lacks a positive correlation between population and noise complaints or population and heat/water complaints."
      ],
      "execution_count": 0,
      "outputs": []
    },
    {
      "cell_type": "code",
      "metadata": {
        "id": "hQ187cdMscHp",
        "colab_type": "code",
        "colab": {}
      },
      "source": [
        "# Noise complaints may be more relevant with cars instead of population."
      ],
      "execution_count": 0,
      "outputs": []
    },
    {
      "cell_type": "code",
      "metadata": {
        "id": "ZIMljsE8s2zX",
        "colab_type": "code",
        "colab": {}
      },
      "source": [
        "# Heat/water complaints may be more relevant with the age of the buildings in the district. "
      ],
      "execution_count": 0,
      "outputs": []
    }
  ]
}